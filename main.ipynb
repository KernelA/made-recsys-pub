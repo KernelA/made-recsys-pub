{
 "cells": [
  {
   "attachments": {},
   "cell_type": "markdown",
   "id": "ae90c4df",
   "metadata": {},
   "source": [
    "# План домашней работы\n",
    "1. Реализовать алгоритмы **item2item**, **ALS**, **IALS** (2 балл за каждый)\n",
    "2. Посчитать метрику предсказаний **MAP@10** (2 балла)\n",
    "\n",
    "Будем решать задачу предсказания: на 4/5 пользователей учимся, на 1/5 выбрасываем случайный лайк и пытаемся предсказать его беря топ 100 наших лучших предсказаний для этого пользователя.\n",
    "\n",
    "3. Подобрать параметры алгоритмов для максимизации MAP@10 (1 балл)\n",
    "4. Сравнить похожести айтемов получаюшиеся для item2item, ALS, IALS (1 балл)\n",
    "\n",
    "Замерить насколько получаются похожими топы похожестей. Так же рекомендуется взять 5-топовых (или любимых) фильмов и посмотреть на похожести которые получаются для них в разных алгоритмах."
   ]
  },
  {
   "cell_type": "code",
   "execution_count": 1,
   "id": "51630f5f",
   "metadata": {
    "ExecuteTime": {
     "end_time": "2023-06-07T21:31:43.942096Z",
     "start_time": "2023-06-07T21:31:43.139524Z"
    }
   },
   "outputs": [],
   "source": [
    "import pathlib\n",
    "import warnings\n",
    "\n",
    "import polars as pl\n",
    "from hydra import initialize, compose\n",
    "import hydra\n",
    "import seaborn as sns\n",
    "import numpy as np\n",
    "from omegaconf import OmegaConf\n",
    "import pandas as pd\n",
    "import tqdm\n",
    "import numba"
   ]
  },
  {
   "cell_type": "code",
   "execution_count": 2,
   "id": "df8cba27",
   "metadata": {},
   "outputs": [],
   "source": [
    "warnings.simplefilter(\"ignore\", tqdm.TqdmWarning, append=True)\n",
    "warnings.simplefilter(\"ignore\", numba.errors.NumbaPerformanceWarning, append=True)"
   ]
  },
  {
   "cell_type": "code",
   "execution_count": 3,
   "id": "62ea49e5",
   "metadata": {},
   "outputs": [],
   "source": [
    "sns.set_style(\"dark\")"
   ]
  },
  {
   "cell_type": "code",
   "execution_count": 4,
   "id": "f49ec7aa",
   "metadata": {},
   "outputs": [],
   "source": [
    "%load_ext autoreload\n",
    "%autoreload 2\n",
    "\n",
    "from made_recsys.matrix_ops import interactions_to_csc_matrix\n",
    "from made_recsys.utils import load_pickle\n",
    "from made_recsys.log_set import init_logging\n",
    "from made_recsys.utils import load_pickle, load_json"
   ]
  },
  {
   "cell_type": "code",
   "execution_count": 5,
   "id": "b1811478",
   "metadata": {},
   "outputs": [],
   "source": [
    "is_init_logging = True"
   ]
  },
  {
   "cell_type": "code",
   "execution_count": 6,
   "id": "7cfa9a69",
   "metadata": {},
   "outputs": [],
   "source": [
    "if not is_init_logging:\n",
    "    init_logging(\"./log_settings.yaml\")"
   ]
  },
  {
   "cell_type": "code",
   "execution_count": 7,
   "id": "c2a5ecfe",
   "metadata": {},
   "outputs": [],
   "source": [
    "with initialize(config_path=\"configs\", version_base=\"1.3\"):\n",
    "    train_test_config = compose(\"train_test_split\")"
   ]
  },
  {
   "cell_type": "code",
   "execution_count": 8,
   "id": "4e53f574",
   "metadata": {},
   "outputs": [],
   "source": [
    "with initialize(config_path=\"configs\", version_base=\"1.3\"):\n",
    "    item2item_config = compose(\"item2item\")"
   ]
  },
  {
   "cell_type": "code",
   "execution_count": 9,
   "id": "1e77a51e",
   "metadata": {},
   "outputs": [],
   "source": [
    "train_data_dir = pathlib.Path(train_test_config.train_dir)\n",
    "test_data_dir = pathlib.Path(train_test_config.test_dir)\n",
    "dump_dir = pathlib.Path(train_test_config.dump_dir)"
   ]
  },
  {
   "cell_type": "code",
   "execution_count": 10,
   "id": "4032c635",
   "metadata": {},
   "outputs": [],
   "source": [
    "all_names = pl.read_parquet(dump_dir / \"items.parquet\")"
   ]
  },
  {
   "cell_type": "code",
   "execution_count": 11,
   "id": "9fd2f5d4",
   "metadata": {},
   "outputs": [],
   "source": [
    "user_encoder = load_pickle(str(train_data_dir / \"user_encoder.pickle\"))"
   ]
  },
  {
   "cell_type": "code",
   "execution_count": 12,
   "id": "f6d7f3db",
   "metadata": {},
   "outputs": [],
   "source": [
    "item_encoder = load_pickle(str(train_data_dir / \"item_encoder.pickle\"))"
   ]
  },
  {
   "cell_type": "code",
   "execution_count": 13,
   "id": "772f1375",
   "metadata": {
    "ExecuteTime": {
     "end_time": "2023-06-07T21:31:46.293533Z",
     "start_time": "2023-06-07T21:31:46.269174Z"
    }
   },
   "outputs": [
    {
     "data": {
      "text/html": [
       "<div><style>\n",
       ".dataframe > thead > tr > th,\n",
       ".dataframe > tbody > tr > td {\n",
       "  text-align: right;\n",
       "}\n",
       "</style>\n",
       "<small>shape: (5, 3)</small><table border=\"1\" class=\"dataframe\"><thead><tr><th>item_id</th><th>title</th><th>genres</th></tr><tr><td>u32</td><td>str</td><td>str</td></tr></thead><tbody><tr><td>1</td><td>&quot;Toy Story (199…</td><td>&quot;Animation|Chil…</td></tr><tr><td>2</td><td>&quot;Jumanji (1995)…</td><td>&quot;Adventure|Chil…</td></tr><tr><td>3</td><td>&quot;Grumpier Old M…</td><td>&quot;Comedy|Romance…</td></tr><tr><td>4</td><td>&quot;Waiting to Exh…</td><td>&quot;Comedy|Drama&quot;</td></tr><tr><td>5</td><td>&quot;Father of the …</td><td>&quot;Comedy&quot;</td></tr></tbody></table></div>"
      ],
      "text/plain": [
       "shape: (5, 3)\n",
       "┌─────────┬───────────────────────────────────┬──────────────────────────────┐\n",
       "│ item_id ┆ title                             ┆ genres                       │\n",
       "│ ---     ┆ ---                               ┆ ---                          │\n",
       "│ u32     ┆ str                               ┆ str                          │\n",
       "╞═════════╪═══════════════════════════════════╪══════════════════════════════╡\n",
       "│ 1       ┆ Toy Story (1995)                  ┆ Animation|Children's|Comedy  │\n",
       "│ 2       ┆ Jumanji (1995)                    ┆ Adventure|Children's|Fantasy │\n",
       "│ 3       ┆ Grumpier Old Men (1995)           ┆ Comedy|Romance               │\n",
       "│ 4       ┆ Waiting to Exhale (1995)          ┆ Comedy|Drama                 │\n",
       "│ 5       ┆ Father of the Bride Part II (199… ┆ Comedy                       │\n",
       "└─────────┴───────────────────────────────────┴──────────────────────────────┘"
      ]
     },
     "execution_count": 13,
     "metadata": {},
     "output_type": "execute_result"
    }
   ],
   "source": [
    "all_names.head()"
   ]
  },
  {
   "cell_type": "code",
   "execution_count": 14,
   "id": "ad3703dd",
   "metadata": {},
   "outputs": [
    {
     "data": {
      "text/plain": [
       "(4832, 3692)"
      ]
     },
     "execution_count": 14,
     "metadata": {},
     "output_type": "execute_result"
    }
   ],
   "source": [
    "len(user_encoder.classes_), len(item_encoder.classes_)"
   ]
  },
  {
   "cell_type": "code",
   "execution_count": 15,
   "id": "27343900",
   "metadata": {},
   "outputs": [],
   "source": [
    "train_interactions = pl.read_parquet(train_data_dir / \"train.parquet\")"
   ]
  },
  {
   "cell_type": "code",
   "execution_count": 16,
   "id": "45481ba5",
   "metadata": {},
   "outputs": [],
   "source": [
    "user_item_inter = interactions_to_csc_matrix(train_interactions, user_encoder, item_encoder)"
   ]
  },
  {
   "cell_type": "code",
   "execution_count": 17,
   "id": "078a1dcc",
   "metadata": {},
   "outputs": [],
   "source": [
    "test_hist = pl.read_parquet(test_data_dir / \"test_hist.parquet\")\n",
    "valid_inter = pl.read_parquet(test_data_dir / \"test_valid.parquet\")"
   ]
  },
  {
   "cell_type": "code",
   "execution_count": 18,
   "id": "f6fbe70f",
   "metadata": {},
   "outputs": [],
   "source": [
    "top_item_ids = train_interactions.groupby(\"item_id\").count().top_k(k=5, by=\"count\").get_column(\"item_id\")"
   ]
  },
  {
   "cell_type": "code",
   "execution_count": 19,
   "id": "08f3e009",
   "metadata": {},
   "outputs": [
    {
     "data": {
      "text/html": [
       "<div><style>\n",
       ".dataframe > thead > tr > th,\n",
       ".dataframe > tbody > tr > td {\n",
       "  text-align: right;\n",
       "}\n",
       "</style>\n",
       "<small>shape: (5,)</small><table border=\"1\" class=\"dataframe\"><thead><tr><th>item_id</th></tr><tr><td>u32</td></tr></thead><tbody><tr><td>2858</td></tr><tr><td>260</td></tr><tr><td>1196</td></tr><tr><td>1210</td></tr><tr><td>480</td></tr></tbody></table></div>"
      ],
      "text/plain": [
       "shape: (5,)\n",
       "Series: 'item_id' [u32]\n",
       "[\n",
       "\t2858\n",
       "\t260\n",
       "\t1196\n",
       "\t1210\n",
       "\t480\n",
       "]"
      ]
     },
     "execution_count": 19,
     "metadata": {},
     "output_type": "execute_result"
    }
   ],
   "source": [
    "top_item_ids"
   ]
  },
  {
   "cell_type": "code",
   "execution_count": 20,
   "id": "843497f0",
   "metadata": {},
   "outputs": [],
   "source": [
    "num_rec = train_test_config.predict_top_n"
   ]
  },
  {
   "attachments": {},
   "cell_type": "markdown",
   "id": "7cd3e8ed",
   "metadata": {},
   "source": [
    "# Item2Item"
   ]
  },
  {
   "attachments": {},
   "cell_type": "markdown",
   "id": "61d82283",
   "metadata": {},
   "source": [
    "## Результаты при разных параметрах"
   ]
  },
  {
   "cell_type": "code",
   "execution_count": 21,
   "id": "08ff9e3c",
   "metadata": {},
   "outputs": [],
   "source": [
    "item2item_exp_dir = pathlib.Path(\"data\", \"item2item\")"
   ]
  },
  {
   "cell_type": "code",
   "execution_count": 22,
   "id": "1f240f78",
   "metadata": {},
   "outputs": [],
   "source": [
    "target_metric_name = \"map\""
   ]
  },
  {
   "cell_type": "code",
   "execution_count": 23,
   "id": "d0e53ea8",
   "metadata": {},
   "outputs": [],
   "source": [
    "hyperparams_results =  []\n",
    "\n",
    "for entity in item2item_exp_dir.iterdir():\n",
    "    if not entity.is_dir():\n",
    "        continue\n",
    "    config = entity / \".hydra\" / \"config.yaml\"\n",
    "    metric_file = entity / \"metrics\" / \"map.json\"\n",
    "    hyperparams_results.append((OmegaConf.to_container(OmegaConf.load(config)), load_json(str(metric_file))[target_metric_name], entity))"
   ]
  },
  {
   "cell_type": "code",
   "execution_count": 24,
   "id": "5dcfae1c",
   "metadata": {},
   "outputs": [],
   "source": [
    "item2item_params = pd.DataFrame.from_records(hyperparams_results, columns=[\"params\", target_metric_name, \"path\"])\n",
    "item2item_params = pd.concat(\n",
    "    (\n",
    "        pd.json_normalize(item2item_params[\"params\"]), \n",
    "        item2item_params[item2item_params.columns.difference([\"params\"])]), axis=1)"
   ]
  },
  {
   "cell_type": "code",
   "execution_count": 25,
   "id": "d228384d",
   "metadata": {},
   "outputs": [
    {
     "data": {
      "text/html": [
       "<style type=\"text/css\">\n",
       "</style>\n",
       "<table id=\"T_3409e\">\n",
       "  <thead>\n",
       "    <tr>\n",
       "      <th class=\"blank level0\" >&nbsp;</th>\n",
       "      <th id=\"T_3409e_level0_col3\" class=\"col_heading level0 col3\" >algo._target_</th>\n",
       "      <th id=\"T_3409e_level0_col4\" class=\"col_heading level0 col4\" >algo.seed</th>\n",
       "      <th id=\"T_3409e_level0_col5\" class=\"col_heading level0 col5\" >algo.metric</th>\n",
       "      <th id=\"T_3409e_level0_col6\" class=\"col_heading level0 col6\" >algo.max_candidates</th>\n",
       "      <th id=\"T_3409e_level0_col7\" class=\"col_heading level0 col7\" >algo.low_memory</th>\n",
       "      <th id=\"T_3409e_level0_col8\" class=\"col_heading level0 col8\" >map</th>\n",
       "    </tr>\n",
       "  </thead>\n",
       "  <tbody>\n",
       "    <tr>\n",
       "      <th id=\"T_3409e_level0_row0\" class=\"row_heading level0 row0\" >1</th>\n",
       "      <td id=\"T_3409e_row0_col3\" class=\"data row0 col3\" >made_recsys.item2item.Item2ItemRecommender</td>\n",
       "      <td id=\"T_3409e_row0_col4\" class=\"data row0 col4\" >12123</td>\n",
       "      <td id=\"T_3409e_row0_col5\" class=\"data row0 col5\" >cosine</td>\n",
       "      <td id=\"T_3409e_row0_col6\" class=\"data row0 col6\" >101</td>\n",
       "      <td id=\"T_3409e_row0_col7\" class=\"data row0 col7\" >False</td>\n",
       "      <td id=\"T_3409e_row0_col8\" class=\"data row0 col8\" >0.023750</td>\n",
       "    </tr>\n",
       "    <tr>\n",
       "      <th id=\"T_3409e_level0_row1\" class=\"row_heading level0 row1\" >0</th>\n",
       "      <td id=\"T_3409e_row1_col3\" class=\"data row1 col3\" >made_recsys.item2item.Item2ItemRecommender</td>\n",
       "      <td id=\"T_3409e_row1_col4\" class=\"data row1 col4\" >12123</td>\n",
       "      <td id=\"T_3409e_row1_col5\" class=\"data row1 col5\" >jaccard</td>\n",
       "      <td id=\"T_3409e_row1_col6\" class=\"data row1 col6\" >101</td>\n",
       "      <td id=\"T_3409e_row1_col7\" class=\"data row1 col7\" >False</td>\n",
       "      <td id=\"T_3409e_row1_col8\" class=\"data row1 col8\" >0.020608</td>\n",
       "    </tr>\n",
       "  </tbody>\n",
       "</table>\n"
      ],
      "text/plain": [
       "<pandas.io.formats.style.Styler at 0x7f7d1201f670>"
      ]
     },
     "execution_count": 25,
     "metadata": {},
     "output_type": "execute_result"
    }
   ],
   "source": [
    "item2item_params.sort_values(target_metric_name, ascending=False).style.hide(subset=[\"test_dir\", \"train_dir\", \"dump_dir\", \"path\"], axis=\"columns\")"
   ]
  },
  {
   "cell_type": "code",
   "execution_count": 26,
   "id": "fffaa610",
   "metadata": {},
   "outputs": [],
   "source": [
    "best_item2item_config, _, exp_dir = max(hyperparams_results, key=lambda x: x[1])"
   ]
  },
  {
   "cell_type": "code",
   "execution_count": 27,
   "id": "1c0f695e",
   "metadata": {},
   "outputs": [],
   "source": [
    "item2item_rec = hydra.utils.instantiate(best_item2item_config[\"algo\"], user_encoder=user_encoder, item_encoder=item_encoder)"
   ]
  },
  {
   "cell_type": "code",
   "execution_count": 28,
   "id": "8d6623d7",
   "metadata": {},
   "outputs": [],
   "source": [
    "item2item_rec.load_index(exp_dir / best_item2item_config[\"dump_dir\"])"
   ]
  },
  {
   "attachments": {},
   "cell_type": "markdown",
   "id": "8bbbd22c",
   "metadata": {},
   "source": [
    "# ALS"
   ]
  },
  {
   "attachments": {},
   "cell_type": "markdown",
   "id": "0178bf94",
   "metadata": {},
   "source": [
    "## Результаты при разных параметрах"
   ]
  },
  {
   "cell_type": "code",
   "execution_count": 29,
   "id": "56c3f709",
   "metadata": {},
   "outputs": [],
   "source": [
    "als_exp_dir = pathlib.Path(\"data\", \"als\")"
   ]
  },
  {
   "cell_type": "code",
   "execution_count": 30,
   "id": "c1ff91aa",
   "metadata": {},
   "outputs": [],
   "source": [
    "hyperparams_results =  []\n",
    "\n",
    "for entity in als_exp_dir.iterdir():\n",
    "    if not entity.is_dir():\n",
    "        continue\n",
    "    config = entity / \".hydra\" / \"config.yaml\"\n",
    "    metric_file = entity / \"metrics\" / \"map.json\"\n",
    "    hyperparams_results.append((OmegaConf.to_container(OmegaConf.load(config)), load_json(str(metric_file))[target_metric_name], entity))"
   ]
  },
  {
   "cell_type": "code",
   "execution_count": 31,
   "id": "d8b3b8bc",
   "metadata": {},
   "outputs": [],
   "source": [
    "als_params = pd.DataFrame.from_records(hyperparams_results, columns=[\"params\", target_metric_name, \"path\"])\n",
    "als_params = pd.concat(\n",
    "    (\n",
    "        pd.json_normalize(als_params[\"params\"]), \n",
    "        als_params[als_params.columns.difference([\"params\"])]), axis=1)"
   ]
  },
  {
   "cell_type": "code",
   "execution_count": 32,
   "id": "525feb0b",
   "metadata": {},
   "outputs": [
    {
     "data": {
      "text/html": [
       "<style type=\"text/css\">\n",
       "</style>\n",
       "<table id=\"T_c6369\">\n",
       "  <thead>\n",
       "    <tr>\n",
       "      <th class=\"blank level0\" >&nbsp;</th>\n",
       "      <th id=\"T_c6369_level0_col3\" class=\"col_heading level0 col3\" >algo._target_</th>\n",
       "      <th id=\"T_c6369_level0_col4\" class=\"col_heading level0 col4\" >algo.latent_size</th>\n",
       "      <th id=\"T_c6369_level0_col5\" class=\"col_heading level0 col5\" >algo.l2_reg</th>\n",
       "      <th id=\"T_c6369_level0_col6\" class=\"col_heading level0 col6\" >algo.num_iterations</th>\n",
       "      <th id=\"T_c6369_level0_col7\" class=\"col_heading level0 col7\" >algo.seed</th>\n",
       "      <th id=\"T_c6369_level0_col8\" class=\"col_heading level0 col8\" >map</th>\n",
       "    </tr>\n",
       "  </thead>\n",
       "  <tbody>\n",
       "    <tr>\n",
       "      <th id=\"T_c6369_level0_row0\" class=\"row_heading level0 row0\" >1</th>\n",
       "      <td id=\"T_c6369_row0_col3\" class=\"data row0 col3\" >made_recsys.als.ALS</td>\n",
       "      <td id=\"T_c6369_row0_col4\" class=\"data row0 col4\" >2</td>\n",
       "      <td id=\"T_c6369_row0_col5\" class=\"data row0 col5\" >2.403958</td>\n",
       "      <td id=\"T_c6369_row0_col6\" class=\"data row0 col6\" >5</td>\n",
       "      <td id=\"T_c6369_row0_col7\" class=\"data row0 col7\" >12123</td>\n",
       "      <td id=\"T_c6369_row0_col8\" class=\"data row0 col8\" >0.038699</td>\n",
       "    </tr>\n",
       "    <tr>\n",
       "      <th id=\"T_c6369_level0_row1\" class=\"row_heading level0 row1\" >8</th>\n",
       "      <td id=\"T_c6369_row1_col3\" class=\"data row1 col3\" >made_recsys.als.ALS</td>\n",
       "      <td id=\"T_c6369_row1_col4\" class=\"data row1 col4\" >2</td>\n",
       "      <td id=\"T_c6369_row1_col5\" class=\"data row1 col5\" >2.165991</td>\n",
       "      <td id=\"T_c6369_row1_col6\" class=\"data row1 col6\" >5</td>\n",
       "      <td id=\"T_c6369_row1_col7\" class=\"data row1 col7\" >12123</td>\n",
       "      <td id=\"T_c6369_row1_col8\" class=\"data row1 col8\" >0.037356</td>\n",
       "    </tr>\n",
       "    <tr>\n",
       "      <th id=\"T_c6369_level0_row2\" class=\"row_heading level0 row2\" >10</th>\n",
       "      <td id=\"T_c6369_row2_col3\" class=\"data row2 col3\" >made_recsys.als.ALS</td>\n",
       "      <td id=\"T_c6369_row2_col4\" class=\"data row2 col4\" >2</td>\n",
       "      <td id=\"T_c6369_row2_col5\" class=\"data row2 col5\" >2.688743</td>\n",
       "      <td id=\"T_c6369_row2_col6\" class=\"data row2 col6\" >5</td>\n",
       "      <td id=\"T_c6369_row2_col7\" class=\"data row2 col7\" >12123</td>\n",
       "      <td id=\"T_c6369_row2_col8\" class=\"data row2 col8\" >0.036910</td>\n",
       "    </tr>\n",
       "    <tr>\n",
       "      <th id=\"T_c6369_level0_row3\" class=\"row_heading level0 row3\" >7</th>\n",
       "      <td id=\"T_c6369_row3_col3\" class=\"data row3 col3\" >made_recsys.als.ALS</td>\n",
       "      <td id=\"T_c6369_row3_col4\" class=\"data row3 col4\" >2</td>\n",
       "      <td id=\"T_c6369_row3_col5\" class=\"data row3 col5\" >2.000565</td>\n",
       "      <td id=\"T_c6369_row3_col6\" class=\"data row3 col6\" >7</td>\n",
       "      <td id=\"T_c6369_row3_col7\" class=\"data row3 col7\" >12123</td>\n",
       "      <td id=\"T_c6369_row3_col8\" class=\"data row3 col8\" >0.035665</td>\n",
       "    </tr>\n",
       "    <tr>\n",
       "      <th id=\"T_c6369_level0_row4\" class=\"row_heading level0 row4\" >3</th>\n",
       "      <td id=\"T_c6369_row4_col3\" class=\"data row4 col3\" >made_recsys.als.ALS</td>\n",
       "      <td id=\"T_c6369_row4_col4\" class=\"data row4 col4\" >2</td>\n",
       "      <td id=\"T_c6369_row4_col5\" class=\"data row4 col5\" >2.620018</td>\n",
       "      <td id=\"T_c6369_row4_col6\" class=\"data row4 col6\" >5</td>\n",
       "      <td id=\"T_c6369_row4_col7\" class=\"data row4 col7\" >12123</td>\n",
       "      <td id=\"T_c6369_row4_col8\" class=\"data row4 col8\" >0.035617</td>\n",
       "    </tr>\n",
       "    <tr>\n",
       "      <th id=\"T_c6369_level0_row5\" class=\"row_heading level0 row5\" >27</th>\n",
       "      <td id=\"T_c6369_row5_col3\" class=\"data row5 col3\" >made_recsys.als.ALS</td>\n",
       "      <td id=\"T_c6369_row5_col4\" class=\"data row5 col4\" >2</td>\n",
       "      <td id=\"T_c6369_row5_col5\" class=\"data row5 col5\" >2.600213</td>\n",
       "      <td id=\"T_c6369_row5_col6\" class=\"data row5 col6\" >5</td>\n",
       "      <td id=\"T_c6369_row5_col7\" class=\"data row5 col7\" >12123</td>\n",
       "      <td id=\"T_c6369_row5_col8\" class=\"data row5 col8\" >0.035578</td>\n",
       "    </tr>\n",
       "    <tr>\n",
       "      <th id=\"T_c6369_level0_row6\" class=\"row_heading level0 row6\" >14</th>\n",
       "      <td id=\"T_c6369_row6_col3\" class=\"data row6 col3\" >made_recsys.als.ALS</td>\n",
       "      <td id=\"T_c6369_row6_col4\" class=\"data row6 col4\" >2</td>\n",
       "      <td id=\"T_c6369_row6_col5\" class=\"data row6 col5\" >1.698066</td>\n",
       "      <td id=\"T_c6369_row6_col6\" class=\"data row6 col6\" >5</td>\n",
       "      <td id=\"T_c6369_row6_col7\" class=\"data row6 col7\" >12123</td>\n",
       "      <td id=\"T_c6369_row6_col8\" class=\"data row6 col8\" >0.035333</td>\n",
       "    </tr>\n",
       "    <tr>\n",
       "      <th id=\"T_c6369_level0_row7\" class=\"row_heading level0 row7\" >15</th>\n",
       "      <td id=\"T_c6369_row7_col3\" class=\"data row7 col3\" >made_recsys.als.ALS</td>\n",
       "      <td id=\"T_c6369_row7_col4\" class=\"data row7 col4\" >2</td>\n",
       "      <td id=\"T_c6369_row7_col5\" class=\"data row7 col5\" >4.895204</td>\n",
       "      <td id=\"T_c6369_row7_col6\" class=\"data row7 col6\" >6</td>\n",
       "      <td id=\"T_c6369_row7_col7\" class=\"data row7 col7\" >12123</td>\n",
       "      <td id=\"T_c6369_row7_col8\" class=\"data row7 col8\" >0.035181</td>\n",
       "    </tr>\n",
       "    <tr>\n",
       "      <th id=\"T_c6369_level0_row8\" class=\"row_heading level0 row8\" >12</th>\n",
       "      <td id=\"T_c6369_row8_col3\" class=\"data row8 col3\" >made_recsys.als.ALS</td>\n",
       "      <td id=\"T_c6369_row8_col4\" class=\"data row8 col4\" >2</td>\n",
       "      <td id=\"T_c6369_row8_col5\" class=\"data row8 col5\" >2.550307</td>\n",
       "      <td id=\"T_c6369_row8_col6\" class=\"data row8 col6\" >5</td>\n",
       "      <td id=\"T_c6369_row8_col7\" class=\"data row8 col7\" >12123</td>\n",
       "      <td id=\"T_c6369_row8_col8\" class=\"data row8 col8\" >0.034835</td>\n",
       "    </tr>\n",
       "    <tr>\n",
       "      <th id=\"T_c6369_level0_row9\" class=\"row_heading level0 row9\" >29</th>\n",
       "      <td id=\"T_c6369_row9_col3\" class=\"data row9 col3\" >made_recsys.als.ALS</td>\n",
       "      <td id=\"T_c6369_row9_col4\" class=\"data row9 col4\" >2</td>\n",
       "      <td id=\"T_c6369_row9_col5\" class=\"data row9 col5\" >1.058103</td>\n",
       "      <td id=\"T_c6369_row9_col6\" class=\"data row9 col6\" >7</td>\n",
       "      <td id=\"T_c6369_row9_col7\" class=\"data row9 col7\" >12123</td>\n",
       "      <td id=\"T_c6369_row9_col8\" class=\"data row9 col8\" >0.034727</td>\n",
       "    </tr>\n",
       "    <tr>\n",
       "      <th id=\"T_c6369_level0_row10\" class=\"row_heading level0 row10\" >13</th>\n",
       "      <td id=\"T_c6369_row10_col3\" class=\"data row10 col3\" >made_recsys.als.ALS</td>\n",
       "      <td id=\"T_c6369_row10_col4\" class=\"data row10 col4\" >4</td>\n",
       "      <td id=\"T_c6369_row10_col5\" class=\"data row10 col5\" >4.133733</td>\n",
       "      <td id=\"T_c6369_row10_col6\" class=\"data row10 col6\" >5</td>\n",
       "      <td id=\"T_c6369_row10_col7\" class=\"data row10 col7\" >12123</td>\n",
       "      <td id=\"T_c6369_row10_col8\" class=\"data row10 col8\" >0.033822</td>\n",
       "    </tr>\n",
       "    <tr>\n",
       "      <th id=\"T_c6369_level0_row11\" class=\"row_heading level0 row11\" >25</th>\n",
       "      <td id=\"T_c6369_row11_col3\" class=\"data row11 col3\" >made_recsys.als.ALS</td>\n",
       "      <td id=\"T_c6369_row11_col4\" class=\"data row11 col4\" >2</td>\n",
       "      <td id=\"T_c6369_row11_col5\" class=\"data row11 col5\" >7.197495</td>\n",
       "      <td id=\"T_c6369_row11_col6\" class=\"data row11 col6\" >7</td>\n",
       "      <td id=\"T_c6369_row11_col7\" class=\"data row11 col7\" >12123</td>\n",
       "      <td id=\"T_c6369_row11_col8\" class=\"data row11 col8\" >0.033529</td>\n",
       "    </tr>\n",
       "    <tr>\n",
       "      <th id=\"T_c6369_level0_row12\" class=\"row_heading level0 row12\" >0</th>\n",
       "      <td id=\"T_c6369_row12_col3\" class=\"data row12 col3\" >made_recsys.als.ALS</td>\n",
       "      <td id=\"T_c6369_row12_col4\" class=\"data row12 col4\" >2</td>\n",
       "      <td id=\"T_c6369_row12_col5\" class=\"data row12 col5\" >1.409773</td>\n",
       "      <td id=\"T_c6369_row12_col6\" class=\"data row12 col6\" >5</td>\n",
       "      <td id=\"T_c6369_row12_col7\" class=\"data row12 col7\" >12123</td>\n",
       "      <td id=\"T_c6369_row12_col8\" class=\"data row12 col8\" >0.033443</td>\n",
       "    </tr>\n",
       "    <tr>\n",
       "      <th id=\"T_c6369_level0_row13\" class=\"row_heading level0 row13\" >11</th>\n",
       "      <td id=\"T_c6369_row13_col3\" class=\"data row13 col3\" >made_recsys.als.ALS</td>\n",
       "      <td id=\"T_c6369_row13_col4\" class=\"data row13 col4\" >2</td>\n",
       "      <td id=\"T_c6369_row13_col5\" class=\"data row13 col5\" >2.944203</td>\n",
       "      <td id=\"T_c6369_row13_col6\" class=\"data row13 col6\" >8</td>\n",
       "      <td id=\"T_c6369_row13_col7\" class=\"data row13 col7\" >12123</td>\n",
       "      <td id=\"T_c6369_row13_col8\" class=\"data row13 col8\" >0.032783</td>\n",
       "    </tr>\n",
       "    <tr>\n",
       "      <th id=\"T_c6369_level0_row14\" class=\"row_heading level0 row14\" >4</th>\n",
       "      <td id=\"T_c6369_row14_col3\" class=\"data row14 col3\" >made_recsys.als.ALS</td>\n",
       "      <td id=\"T_c6369_row14_col4\" class=\"data row14 col4\" >2</td>\n",
       "      <td id=\"T_c6369_row14_col5\" class=\"data row14 col5\" >3.438348</td>\n",
       "      <td id=\"T_c6369_row14_col6\" class=\"data row14 col6\" >9</td>\n",
       "      <td id=\"T_c6369_row14_col7\" class=\"data row14 col7\" >12123</td>\n",
       "      <td id=\"T_c6369_row14_col8\" class=\"data row14 col8\" >0.031742</td>\n",
       "    </tr>\n",
       "    <tr>\n",
       "      <th id=\"T_c6369_level0_row15\" class=\"row_heading level0 row15\" >9</th>\n",
       "      <td id=\"T_c6369_row15_col3\" class=\"data row15 col3\" >made_recsys.als.ALS</td>\n",
       "      <td id=\"T_c6369_row15_col4\" class=\"data row15 col4\" >4</td>\n",
       "      <td id=\"T_c6369_row15_col5\" class=\"data row15 col5\" >4.135591</td>\n",
       "      <td id=\"T_c6369_row15_col6\" class=\"data row15 col6\" >5</td>\n",
       "      <td id=\"T_c6369_row15_col7\" class=\"data row15 col7\" >12123</td>\n",
       "      <td id=\"T_c6369_row15_col8\" class=\"data row15 col8\" >0.031591</td>\n",
       "    </tr>\n",
       "    <tr>\n",
       "      <th id=\"T_c6369_level0_row16\" class=\"row_heading level0 row16\" >20</th>\n",
       "      <td id=\"T_c6369_row16_col3\" class=\"data row16 col3\" >made_recsys.als.ALS</td>\n",
       "      <td id=\"T_c6369_row16_col4\" class=\"data row16 col4\" >2</td>\n",
       "      <td id=\"T_c6369_row16_col5\" class=\"data row16 col5\" >0.779679</td>\n",
       "      <td id=\"T_c6369_row16_col6\" class=\"data row16 col6\" >6</td>\n",
       "      <td id=\"T_c6369_row16_col7\" class=\"data row16 col7\" >12123</td>\n",
       "      <td id=\"T_c6369_row16_col8\" class=\"data row16 col8\" >0.031376</td>\n",
       "    </tr>\n",
       "    <tr>\n",
       "      <th id=\"T_c6369_level0_row17\" class=\"row_heading level0 row17\" >6</th>\n",
       "      <td id=\"T_c6369_row17_col3\" class=\"data row17 col3\" >made_recsys.als.ALS</td>\n",
       "      <td id=\"T_c6369_row17_col4\" class=\"data row17 col4\" >16</td>\n",
       "      <td id=\"T_c6369_row17_col5\" class=\"data row17 col5\" >8.755814</td>\n",
       "      <td id=\"T_c6369_row17_col6\" class=\"data row17 col6\" >8</td>\n",
       "      <td id=\"T_c6369_row17_col7\" class=\"data row17 col7\" >12123</td>\n",
       "      <td id=\"T_c6369_row17_col8\" class=\"data row17 col8\" >0.027264</td>\n",
       "    </tr>\n",
       "    <tr>\n",
       "      <th id=\"T_c6369_level0_row18\" class=\"row_heading level0 row18\" >28</th>\n",
       "      <td id=\"T_c6369_row18_col3\" class=\"data row18 col3\" >made_recsys.als.ALS</td>\n",
       "      <td id=\"T_c6369_row18_col4\" class=\"data row18 col4\" >16</td>\n",
       "      <td id=\"T_c6369_row18_col5\" class=\"data row18 col5\" >7.247309</td>\n",
       "      <td id=\"T_c6369_row18_col6\" class=\"data row18 col6\" >8</td>\n",
       "      <td id=\"T_c6369_row18_col7\" class=\"data row18 col7\" >12123</td>\n",
       "      <td id=\"T_c6369_row18_col8\" class=\"data row18 col8\" >0.025726</td>\n",
       "    </tr>\n",
       "    <tr>\n",
       "      <th id=\"T_c6369_level0_row19\" class=\"row_heading level0 row19\" >23</th>\n",
       "      <td id=\"T_c6369_row19_col3\" class=\"data row19 col3\" >made_recsys.als.ALS</td>\n",
       "      <td id=\"T_c6369_row19_col4\" class=\"data row19 col4\" >16</td>\n",
       "      <td id=\"T_c6369_row19_col5\" class=\"data row19 col5\" >6.034571</td>\n",
       "      <td id=\"T_c6369_row19_col6\" class=\"data row19 col6\" >8</td>\n",
       "      <td id=\"T_c6369_row19_col7\" class=\"data row19 col7\" >12123</td>\n",
       "      <td id=\"T_c6369_row19_col8\" class=\"data row19 col8\" >0.024602</td>\n",
       "    </tr>\n",
       "    <tr>\n",
       "      <th id=\"T_c6369_level0_row20\" class=\"row_heading level0 row20\" >24</th>\n",
       "      <td id=\"T_c6369_row20_col3\" class=\"data row20 col3\" >made_recsys.als.ALS</td>\n",
       "      <td id=\"T_c6369_row20_col4\" class=\"data row20 col4\" >4</td>\n",
       "      <td id=\"T_c6369_row20_col5\" class=\"data row20 col5\" >9.881204</td>\n",
       "      <td id=\"T_c6369_row20_col6\" class=\"data row20 col6\" >6</td>\n",
       "      <td id=\"T_c6369_row20_col7\" class=\"data row20 col7\" >12123</td>\n",
       "      <td id=\"T_c6369_row20_col8\" class=\"data row20 col8\" >0.023404</td>\n",
       "    </tr>\n",
       "    <tr>\n",
       "      <th id=\"T_c6369_level0_row21\" class=\"row_heading level0 row21\" >19</th>\n",
       "      <td id=\"T_c6369_row21_col3\" class=\"data row21 col3\" >made_recsys.als.ALS</td>\n",
       "      <td id=\"T_c6369_row21_col4\" class=\"data row21 col4\" >16</td>\n",
       "      <td id=\"T_c6369_row21_col5\" class=\"data row21 col5\" >4.264045</td>\n",
       "      <td id=\"T_c6369_row21_col6\" class=\"data row21 col6\" >6</td>\n",
       "      <td id=\"T_c6369_row21_col7\" class=\"data row21 col7\" >12123</td>\n",
       "      <td id=\"T_c6369_row21_col8\" class=\"data row21 col8\" >0.023039</td>\n",
       "    </tr>\n",
       "    <tr>\n",
       "      <th id=\"T_c6369_level0_row22\" class=\"row_heading level0 row22\" >21</th>\n",
       "      <td id=\"T_c6369_row22_col3\" class=\"data row22 col3\" >made_recsys.als.ALS</td>\n",
       "      <td id=\"T_c6369_row22_col4\" class=\"data row22 col4\" >8</td>\n",
       "      <td id=\"T_c6369_row22_col5\" class=\"data row22 col5\" >4.835512</td>\n",
       "      <td id=\"T_c6369_row22_col6\" class=\"data row22 col6\" >10</td>\n",
       "      <td id=\"T_c6369_row22_col7\" class=\"data row22 col7\" >12123</td>\n",
       "      <td id=\"T_c6369_row22_col8\" class=\"data row22 col8\" >0.021147</td>\n",
       "    </tr>\n",
       "    <tr>\n",
       "      <th id=\"T_c6369_level0_row23\" class=\"row_heading level0 row23\" >2</th>\n",
       "      <td id=\"T_c6369_row23_col3\" class=\"data row23 col3\" >made_recsys.als.ALS</td>\n",
       "      <td id=\"T_c6369_row23_col4\" class=\"data row23 col4\" >4</td>\n",
       "      <td id=\"T_c6369_row23_col5\" class=\"data row23 col5\" >9.956922</td>\n",
       "      <td id=\"T_c6369_row23_col6\" class=\"data row23 col6\" >6</td>\n",
       "      <td id=\"T_c6369_row23_col7\" class=\"data row23 col7\" >12123</td>\n",
       "      <td id=\"T_c6369_row23_col8\" class=\"data row23 col8\" >0.019897</td>\n",
       "    </tr>\n",
       "    <tr>\n",
       "      <th id=\"T_c6369_level0_row24\" class=\"row_heading level0 row24\" >26</th>\n",
       "      <td id=\"T_c6369_row24_col3\" class=\"data row24 col3\" >made_recsys.als.ALS</td>\n",
       "      <td id=\"T_c6369_row24_col4\" class=\"data row24 col4\" >8</td>\n",
       "      <td id=\"T_c6369_row24_col5\" class=\"data row24 col5\" >6.243290</td>\n",
       "      <td id=\"T_c6369_row24_col6\" class=\"data row24 col6\" >5</td>\n",
       "      <td id=\"T_c6369_row24_col7\" class=\"data row24 col7\" >12123</td>\n",
       "      <td id=\"T_c6369_row24_col8\" class=\"data row24 col8\" >0.018846</td>\n",
       "    </tr>\n",
       "    <tr>\n",
       "      <th id=\"T_c6369_level0_row25\" class=\"row_heading level0 row25\" >18</th>\n",
       "      <td id=\"T_c6369_row25_col3\" class=\"data row25 col3\" >made_recsys.als.ALS</td>\n",
       "      <td id=\"T_c6369_row25_col4\" class=\"data row25 col4\" >8</td>\n",
       "      <td id=\"T_c6369_row25_col5\" class=\"data row25 col5\" >3.797184</td>\n",
       "      <td id=\"T_c6369_row25_col6\" class=\"data row25 col6\" >9</td>\n",
       "      <td id=\"T_c6369_row25_col7\" class=\"data row25 col7\" >12123</td>\n",
       "      <td id=\"T_c6369_row25_col8\" class=\"data row25 col8\" >0.017572</td>\n",
       "    </tr>\n",
       "    <tr>\n",
       "      <th id=\"T_c6369_level0_row26\" class=\"row_heading level0 row26\" >16</th>\n",
       "      <td id=\"T_c6369_row26_col3\" class=\"data row26 col3\" >made_recsys.als.ALS</td>\n",
       "      <td id=\"T_c6369_row26_col4\" class=\"data row26 col4\" >4</td>\n",
       "      <td id=\"T_c6369_row26_col5\" class=\"data row26 col5\" >3.495380</td>\n",
       "      <td id=\"T_c6369_row26_col6\" class=\"data row26 col6\" >10</td>\n",
       "      <td id=\"T_c6369_row26_col7\" class=\"data row26 col7\" >12123</td>\n",
       "      <td id=\"T_c6369_row26_col8\" class=\"data row26 col8\" >0.015712</td>\n",
       "    </tr>\n",
       "    <tr>\n",
       "      <th id=\"T_c6369_level0_row27\" class=\"row_heading level0 row27\" >5</th>\n",
       "      <td id=\"T_c6369_row27_col3\" class=\"data row27 col3\" >made_recsys.als.ALS</td>\n",
       "      <td id=\"T_c6369_row27_col4\" class=\"data row27 col4\" >16</td>\n",
       "      <td id=\"T_c6369_row27_col5\" class=\"data row27 col5\" >1.833092</td>\n",
       "      <td id=\"T_c6369_row27_col6\" class=\"data row27 col6\" >6</td>\n",
       "      <td id=\"T_c6369_row27_col7\" class=\"data row27 col7\" >12123</td>\n",
       "      <td id=\"T_c6369_row27_col8\" class=\"data row27 col8\" >0.013508</td>\n",
       "    </tr>\n",
       "    <tr>\n",
       "      <th id=\"T_c6369_level0_row28\" class=\"row_heading level0 row28\" >17</th>\n",
       "      <td id=\"T_c6369_row28_col3\" class=\"data row28 col3\" >made_recsys.als.ALS</td>\n",
       "      <td id=\"T_c6369_row28_col4\" class=\"data row28 col4\" >2</td>\n",
       "      <td id=\"T_c6369_row28_col5\" class=\"data row28 col5\" >0.163100</td>\n",
       "      <td id=\"T_c6369_row28_col6\" class=\"data row28 col6\" >7</td>\n",
       "      <td id=\"T_c6369_row28_col7\" class=\"data row28 col7\" >12123</td>\n",
       "      <td id=\"T_c6369_row28_col8\" class=\"data row28 col8\" >0.009576</td>\n",
       "    </tr>\n",
       "    <tr>\n",
       "      <th id=\"T_c6369_level0_row29\" class=\"row_heading level0 row29\" >22</th>\n",
       "      <td id=\"T_c6369_row29_col3\" class=\"data row29 col3\" >made_recsys.als.ALS</td>\n",
       "      <td id=\"T_c6369_row29_col4\" class=\"data row29 col4\" >2</td>\n",
       "      <td id=\"T_c6369_row29_col5\" class=\"data row29 col5\" >0.032717</td>\n",
       "      <td id=\"T_c6369_row29_col6\" class=\"data row29 col6\" >7</td>\n",
       "      <td id=\"T_c6369_row29_col7\" class=\"data row29 col7\" >12123</td>\n",
       "      <td id=\"T_c6369_row29_col8\" class=\"data row29 col8\" >0.000221</td>\n",
       "    </tr>\n",
       "  </tbody>\n",
       "</table>\n"
      ],
      "text/plain": [
       "<pandas.io.formats.style.Styler at 0x7f7c83f4a050>"
      ]
     },
     "execution_count": 32,
     "metadata": {},
     "output_type": "execute_result"
    }
   ],
   "source": [
    "als_params.sort_values(target_metric_name, ascending=False).style.hide(subset=[\"test_dir\", \"train_dir\", \"dump_dir\", \"path\"], axis=\"columns\")"
   ]
  },
  {
   "cell_type": "code",
   "execution_count": 33,
   "id": "4093bdd0",
   "metadata": {},
   "outputs": [],
   "source": [
    "best_als_config, _, exp_dir = max(hyperparams_results, key=lambda x: x[1])"
   ]
  },
  {
   "cell_type": "code",
   "execution_count": 34,
   "id": "92501811",
   "metadata": {},
   "outputs": [],
   "source": [
    "als = hydra.utils.instantiate(best_als_config[\"algo\"], user_encoder=user_encoder, item_encoder=item_encoder)"
   ]
  },
  {
   "cell_type": "code",
   "execution_count": 35,
   "id": "a51ba403",
   "metadata": {},
   "outputs": [],
   "source": [
    "loss_history = []"
   ]
  },
  {
   "cell_type": "code",
   "execution_count": 36,
   "id": "7d6865f2",
   "metadata": {},
   "outputs": [],
   "source": [
    "def loss_callback(iter, value):\n",
    "    loss_history.append((iter, value))"
   ]
  },
  {
   "cell_type": "code",
   "execution_count": 37,
   "id": "fa1afa4b",
   "metadata": {},
   "outputs": [
    {
     "name": "stderr",
     "output_type": "stream",
     "text": [
      "  0%|          | 0/5 [00:00<?, ?it/s]"
     ]
    },
    {
     "name": "stderr",
     "output_type": "stream",
     "text": [
      "100%|██████████| 5/5 [00:07<00:00,  1.41s/it, loss=5.01e+3, loss_decreasing=578]    \n"
     ]
    }
   ],
   "source": [
    "als.fit(user_item_inter, loss_step_report=2, loss_callback=loss_callback, progress=True)"
   ]
  },
  {
   "cell_type": "code",
   "execution_count": 38,
   "id": "b597243d",
   "metadata": {},
   "outputs": [],
   "source": [
    "hist = np.array(loss_history)"
   ]
  },
  {
   "cell_type": "code",
   "execution_count": 39,
   "id": "b6e0bdbd",
   "metadata": {},
   "outputs": [
    {
     "data": {
      "image/png": "[encoded data removed]",
      "text/plain": [
       "<Figure size 640x480 with 1 Axes>"
      ]
     },
     "metadata": {},
     "output_type": "display_data"
    }
   ],
   "source": [
    "plot = sns.lineplot(x=hist[:, 0], y=hist[:, 1], lw=1, dashes=True)\n",
    "plot.set_title(\"Функция потерь в ALS без регуляризации\")\n",
    "plot.set_xlabel(\"Шаг\")\n",
    "plot.grid(True)"
   ]
  },
  {
   "attachments": {},
   "cell_type": "markdown",
   "id": "93f602e7",
   "metadata": {},
   "source": [
    "# Похожести для самых популярных элементов для разных алгоритмов"
   ]
  },
  {
   "cell_type": "code",
   "execution_count": 40,
   "id": "15ccc4ab",
   "metadata": {},
   "outputs": [],
   "source": [
    "n_sim = 5"
   ]
  },
  {
   "cell_type": "code",
   "execution_count": 41,
   "id": "03cb92fb",
   "metadata": {},
   "outputs": [],
   "source": [
    "item2item_sim = item2item_rec.most_similiar_items(top_item_ids, n_sim)"
   ]
  },
  {
   "cell_type": "code",
   "execution_count": 42,
   "id": "a30b90a1",
   "metadata": {},
   "outputs": [],
   "source": [
    "als_sim = als.most_similiar_items(top_item_ids, n_sim)"
   ]
  },
  {
   "cell_type": "code",
   "execution_count": 43,
   "id": "c00b248c",
   "metadata": {},
   "outputs": [],
   "source": [
    "def add_titles(sim_item_ids: pl.DataFrame, titles: pl.DataFrame, suffix: str):\n",
    "    return sim_item_ids.join(titles, on=\"item_id\").join(titles, left_on=\"sim_item_id\", right_on=\"item_id\",\n",
    "                                                        suffix=suffix).sort([\"item_id\", \"distance\"])"
   ]
  },
  {
   "cell_type": "code",
   "execution_count": 44,
   "id": "835dbf4f",
   "metadata": {},
   "outputs": [],
   "source": [
    "item2item_sim = add_titles(item2item_sim, all_names, \"_item2item\")"
   ]
  },
  {
   "cell_type": "code",
   "execution_count": 45,
   "id": "4f603e28",
   "metadata": {},
   "outputs": [],
   "source": [
    "als_sim = add_titles(als_sim, all_names, \"_als\")"
   ]
  },
  {
   "cell_type": "code",
   "execution_count": 46,
   "id": "29a8e1f8",
   "metadata": {},
   "outputs": [
    {
     "data": {
      "text/html": [
       "<div><style>\n",
       ".dataframe > thead > tr > th,\n",
       ".dataframe > tbody > tr > td {\n",
       "  text-align: right;\n",
       "}\n",
       "</style>\n",
       "<small>shape: (3, 7)</small><table border=\"1\" class=\"dataframe\"><thead><tr><th>item_id</th><th>sim_item_id</th><th>distance</th><th>title</th><th>genres</th><th>title_als</th><th>genres_als</th></tr><tr><td>u32</td><td>u32</td><td>f32</td><td>str</td><td>str</td><td>str</td><td>str</td></tr></thead><tbody><tr><td>260</td><td>673</td><td>-1.1921e-7</td><td>&quot;Star Wars: Epi…</td><td>&quot;Action|Adventu…</td><td>&quot;Space Jam (199…</td><td>&quot;Adventure|Anim…</td></tr><tr><td>260</td><td>2916</td><td>-1.1921e-7</td><td>&quot;Star Wars: Epi…</td><td>&quot;Action|Adventu…</td><td>&quot;Total Recall (…</td><td>&quot;Action|Adventu…</td></tr><tr><td>260</td><td>879</td><td>0.0</td><td>&quot;Star Wars: Epi…</td><td>&quot;Action|Adventu…</td><td>&quot;Relic, The (19…</td><td>&quot;Horror&quot;</td></tr></tbody></table></div>"
      ],
      "text/plain": [
       "shape: (3, 7)\n",
       "┌─────────┬─────────────┬────────────┬───────────────┬───────────────┬──────────────┬──────────────┐\n",
       "│ item_id ┆ sim_item_id ┆ distance   ┆ title         ┆ genres        ┆ title_als    ┆ genres_als   │\n",
       "│ ---     ┆ ---         ┆ ---        ┆ ---           ┆ ---           ┆ ---          ┆ ---          │\n",
       "│ u32     ┆ u32         ┆ f32        ┆ str           ┆ str           ┆ str          ┆ str          │\n",
       "╞═════════╪═════════════╪════════════╪═══════════════╪═══════════════╪══════════════╪══════════════╡\n",
       "│ 260     ┆ 673         ┆ -1.1921e-7 ┆ Star Wars:    ┆ Action|Advent ┆ Space Jam    ┆ Adventure|An │\n",
       "│         ┆             ┆            ┆ Episode IV -  ┆ ure|Fantasy|S ┆ (1996)       ┆ imation|Chil │\n",
       "│         ┆             ┆            ┆ A New Ho…     ┆ ci-Fi         ┆              ┆ dren's|C…    │\n",
       "│ 260     ┆ 2916        ┆ -1.1921e-7 ┆ Star Wars:    ┆ Action|Advent ┆ Total Recall ┆ Action|Adven │\n",
       "│         ┆             ┆            ┆ Episode IV -  ┆ ure|Fantasy|S ┆ (1990)       ┆ ture|Sci-Fi| │\n",
       "│         ┆             ┆            ┆ A New Ho…     ┆ ci-Fi         ┆              ┆ Thriller     │\n",
       "│ 260     ┆ 879         ┆ 0.0        ┆ Star Wars:    ┆ Action|Advent ┆ Relic, The   ┆ Horror       │\n",
       "│         ┆             ┆            ┆ Episode IV -  ┆ ure|Fantasy|S ┆ (1997)       ┆              │\n",
       "│         ┆             ┆            ┆ A New Ho…     ┆ ci-Fi         ┆              ┆              │\n",
       "└─────────┴─────────────┴────────────┴───────────────┴───────────────┴──────────────┴──────────────┘"
      ]
     },
     "execution_count": 46,
     "metadata": {},
     "output_type": "execute_result"
    }
   ],
   "source": [
    "als_sim.head(n=3)"
   ]
  },
  {
   "cell_type": "code",
   "execution_count": 47,
   "id": "ec2e2de0",
   "metadata": {},
   "outputs": [],
   "source": [
    "all_sim = item2item_sim.select(pl.col(\"item_id\", \"title\", \"title_item2item\")).hstack(als_sim.select(pl.col(\"title_als\")))"
   ]
  },
  {
   "cell_type": "code",
   "execution_count": 48,
   "id": "ddd9781a",
   "metadata": {},
   "outputs": [
    {
     "name": "stdout",
     "output_type": "stream",
     "text": [
      "────────────────────────────────────────────────────────────────────────────────────────────────────\n",
      " item_id   title                              title_item2item                   title_als           \n",
      "════════════════════════════════════════════════════════════════════════════════════════════════════\n",
      " 260       Star Wars: Episode IV - A New      Star Wars: Episode V - The        Space Jam (1996)    \n",
      "           Hope (1977)                        Empire Strikes Back (1980)                            \n",
      "────────────────────────────────────────────────────────────────────────────────────────────────────\n",
      " 260       Star Wars: Episode IV - A New      Star Wars: Episode VI - Return    Total Recall (1990) \n",
      "           Hope (1977)                        of the Jedi (1983)                                    \n",
      "────────────────────────────────────────────────────────────────────────────────────────────────────\n",
      " 260       Star Wars: Episode IV - A New      Raiders of the Lost Ark (1981)    Relic, The (1997)   \n",
      "           Hope (1977)                                                                              \n",
      "────────────────────────────────────────────────────────────────────────────────────────────────────\n",
      " 260       Star Wars: Episode IV - A New      Terminator, The (1984)            Lake Placid (1999)  \n",
      "           Hope (1977)                                                                              \n",
      "────────────────────────────────────────────────────────────────────────────────────────────────────\n",
      " 260       Star Wars: Episode IV - A New      Alien (1979)                      Blue Streak (1999)  \n",
      "           Hope (1977)                                                                              \n",
      "────────────────────────────────────────────────────────────────────────────────────────────────────\n",
      "\n",
      "\n",
      "\n",
      "────────────────────────────────────────────────────────────────────────────────────────────────────\n",
      " item_id   title                  title_item2item                       title_als                   \n",
      "════════════════════════════════════════════════════════════════════════════════════════════════════\n",
      " 480       Jurassic Park (1993)   Men in Black (1997)                   Species II (1998)           \n",
      "────────────────────────────────────────────────────────────────────────────────────────────────────\n",
      " 480       Jurassic Park (1993)   Terminator 2: Judgment Day (1991)     Terminator 2: Judgment Day  \n",
      "                                                                        (1991)                      \n",
      "────────────────────────────────────────────────────────────────────────────────────────────────────\n",
      " 480       Jurassic Park (1993)   Total Recall (1990)                   Black Mask (Hak hap) (1996) \n",
      "────────────────────────────────────────────────────────────────────────────────────────────────────\n",
      " 480       Jurassic Park (1993)   Matrix, The (1999)                    Star Wars: Episode I - The  \n",
      "                                                                        Phantom Menace (1999)       \n",
      "────────────────────────────────────────────────────────────────────────────────────────────────────\n",
      " 480       Jurassic Park (1993)   Independence Day (ID4) (1996)         American Beauty (1999)      \n",
      "────────────────────────────────────────────────────────────────────────────────────────────────────\n",
      "\n",
      "\n",
      "\n",
      "────────────────────────────────────────────────────────────────────────────────────────────────────\n",
      " item_id   title                          title_item2item               title_als                   \n",
      "════════════════════════════════════════════════════════════════════════════════════════════════════\n",
      " 1196      Star Wars: Episode V - The     Star Wars: Episode IV - A     X-Men (2000)                \n",
      "           Empire Strikes Back (1980)     New Hope (1977)                                           \n",
      "────────────────────────────────────────────────────────────────────────────────────────────────────\n",
      " 1196      Star Wars: Episode V - The     Star Wars: Episode VI -       Richie Rich (1994)          \n",
      "           Empire Strikes Back (1980)     Return of the Jedi (1983)                                 \n",
      "────────────────────────────────────────────────────────────────────────────────────────────────────\n",
      " 1196      Star Wars: Episode V - The     Raiders of the Lost Ark       Silence of the Lambs, The   \n",
      "           Empire Strikes Back (1980)     (1981)                        (1991)                      \n",
      "────────────────────────────────────────────────────────────────────────────────────────────────────\n",
      " 1196      Star Wars: Episode V - The     Terminator, The (1984)        Independence Day (ID4)      \n",
      "           Empire Strikes Back (1980)                                   (1996)                      \n",
      "────────────────────────────────────────────────────────────────────────────────────────────────────\n",
      " 1196      Star Wars: Episode V - The     Matrix, The (1999)            Lost World: Jurassic Park,  \n",
      "           Empire Strikes Back (1980)                                   The (1997)                  \n",
      "────────────────────────────────────────────────────────────────────────────────────────────────────\n",
      "\n",
      "\n",
      "\n",
      "────────────────────────────────────────────────────────────────────────────────────────────────────\n",
      " item_id   title                          title_item2item               title_als                   \n",
      "════════════════════════════════════════════════════════════════════════════════════════════════════\n",
      " 1210      Star Wars: Episode VI -        Star Wars: Episode V - The    Fled (1996)                 \n",
      "           Return of the Jedi (1983)      Empire Strikes Back (1980)                                \n",
      "────────────────────────────────────────────────────────────────────────────────────────────────────\n",
      " 1210      Star Wars: Episode VI -        Star Wars: Episode IV - A     Matrix, The (1999)          \n",
      "           Return of the Jedi (1983)      New Hope (1977)                                           \n",
      "────────────────────────────────────────────────────────────────────────────────────────────────────\n",
      " 1210      Star Wars: Episode VI -        Terminator, The (1984)        Star Wars: Episode I - The  \n",
      "           Return of the Jedi (1983)                                    Phantom Menace (1999)       \n",
      "────────────────────────────────────────────────────────────────────────────────────────────────────\n",
      " 1210      Star Wars: Episode VI -        Raiders of the Lost Ark       Braveheart (1995)           \n",
      "           Return of the Jedi (1983)      (1981)                                                    \n",
      "────────────────────────────────────────────────────────────────────────────────────────────────────\n",
      " 1210      Star Wars: Episode VI -        Matrix, The (1999)            Species II (1998)           \n",
      "           Return of the Jedi (1983)                                                                \n",
      "────────────────────────────────────────────────────────────────────────────────────────────────────\n",
      "\n",
      "\n",
      "\n",
      "────────────────────────────────────────────────────────────────────────────────────────────────────\n",
      " item_id   title                    title_item2item               title_als                         \n",
      "════════════════════════════════════════════════════════════════════════════════════════════════════\n",
      " 2858      American Beauty (1999)   Being John Malkovich (1999)   Terminator 2: Judgment Day (1991) \n",
      "────────────────────────────────────────────────────────────────────────────────────────────────────\n",
      " 2858      American Beauty (1999)   Fargo (1996)                  Jurassic Park (1993)              \n",
      "────────────────────────────────────────────────────────────────────────────────────────────────────\n",
      " 2858      American Beauty (1999)   Pulp Fiction (1994)           Species II (1998)                 \n",
      "────────────────────────────────────────────────────────────────────────────────────────────────────\n",
      " 2858      American Beauty (1999)   Silence of the Lambs, The     Black Mask (Hak hap) (1996)       \n",
      "                                    (1991)                                                          \n",
      "────────────────────────────────────────────────────────────────────────────────────────────────────\n",
      " 2858      American Beauty (1999)   Sixth Sense, The (1999)       Universal Soldier (1992)          \n",
      "────────────────────────────────────────────────────────────────────────────────────────────────────\n",
      "\n",
      "\n",
      "\n"
     ]
    }
   ],
   "source": [
    "with pl.Config() as cfg:\n",
    "    cfg.set_tbl_hide_dataframe_shape()\n",
    "    cfg.set_fmt_str_lengths(300)\n",
    "    cfg.set_tbl_formatting(\"UTF8_HORIZONTAL_ONLY\")\n",
    "    cfg.set_tbl_hide_column_data_types()\n",
    "    for item_id, group in all_sim.groupby(\"item_id\"):\n",
    "        print(group)\n",
    "        print(\"\\n\" * 2)"
   ]
  },
  {
   "cell_type": "code",
   "execution_count": null,
   "id": "103dc3a4",
   "metadata": {},
   "outputs": [],
   "source": []
  }
 ],
 "metadata": {
  "finalized": {
   "timestamp": 1686173501421,
   "trusted": false
  },
  "kernelspec": {
   "display_name": "made-recsys",
   "language": "python",
   "name": "python3"
  },
  "language_info": {
   "codemirror_mode": {
    "name": "ipython",
    "version": 3
   },
   "file_extension": ".py",
   "mimetype": "text/x-python",
   "name": "python",
   "nbconvert_exporter": "python",
   "pygments_lexer": "ipython3",
   "version": "3.10.11"
  },
  "toc": {
   "base_numbering": 1,
   "nav_menu": {},
   "number_sections": true,
   "sideBar": true,
   "skip_h1_title": false,
   "title_cell": "Table of Contents",
   "title_sidebar": "Contents",
   "toc_cell": false,
   "toc_position": {},
   "toc_section_display": true,
   "toc_window_display": true
  }
 },
 "nbformat": 4,
 "nbformat_minor": 5
}
